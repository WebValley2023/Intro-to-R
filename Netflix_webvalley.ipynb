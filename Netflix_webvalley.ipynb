{
 "cells": [
  {
   "attachments": {},
   "cell_type": "markdown",
   "id": "8daa171f",
   "metadata": {
    "lines_to_next_cell": 0
   },
   "source": [
    "Set working directory"
   ]
  },
  {
   "cell_type": "code",
   "execution_count": 6,
   "id": "947adf35",
   "metadata": {
    "vscode": {
     "languageId": "r"
    }
   },
   "outputs": [],
   "source": [
    "setwd(\"C:/Users/Bea/Desktop/Intro to R - 2023\")"
   ]
  },
  {
   "cell_type": "code",
   "execution_count": 8,
   "id": "9ee2af91",
   "metadata": {
    "vscode": {
     "languageId": "r"
    }
   },
   "outputs": [],
   "source": [
    "library(dplyr)\n",
    "library(lubridate)  # \n",
    "library(ggplot2)\n",
    "library(stringr)"
   ]
  },
  {
   "cell_type": "code",
   "execution_count": null,
   "id": "804df98a",
   "metadata": {
    "vscode": {
     "languageId": "r"
    }
   },
   "outputs": [],
   "source": [
    "# install the missing package"
   ]
  },
  {
   "attachments": {},
   "cell_type": "markdown",
   "id": "5e216cd1",
   "metadata": {
    "lines_to_next_cell": 0
   },
   "source": [
    "Some basic command\n",
    "\n",
    "WARNING In R, indexing starts from 1 (not from 0 as in C/Python)"
   ]
  },
  {
   "cell_type": "code",
   "execution_count": null,
   "id": "c617c166",
   "metadata": {
    "vscode": {
     "languageId": "r"
    }
   },
   "outputs": [],
   "source": []
  },
  {
   "attachments": {},
   "cell_type": "markdown",
   "id": "98759517",
   "metadata": {
    "lines_to_next_cell": 0
   },
   "source": [
    "Read the data"
   ]
  },
  {
   "cell_type": "code",
   "execution_count": null,
   "id": "e9da0d0d",
   "metadata": {
    "vscode": {
     "languageId": "r"
    }
   },
   "outputs": [],
   "source": [
    "netflix <- \n",
    "netflix"
   ]
  },
  {
   "attachments": {},
   "cell_type": "markdown",
   "id": "64ea6958",
   "metadata": {
    "lines_to_next_cell": 0
   },
   "source": [
    "explore the data frame"
   ]
  },
  {
   "cell_type": "code",
   "execution_count": null,
   "id": "662c4ada",
   "metadata": {
    "vscode": {
     "languageId": "r"
    }
   },
   "outputs": [],
   "source": [
    "____(netflix)"
   ]
  },
  {
   "attachments": {},
   "cell_type": "markdown",
   "id": "27e53a76",
   "metadata": {
    "lines_to_next_cell": 0
   },
   "source": [
    "Transform variable in factor.\n",
    "\n",
    "(type and age_certification)"
   ]
  },
  {
   "cell_type": "code",
   "execution_count": 12,
   "id": "fcc966c4",
   "metadata": {
    "lines_to_next_cell": 2,
    "vscode": {
     "languageId": "r"
    }
   },
   "outputs": [],
   "source": []
  },
  {
   "cell_type": "code",
   "execution_count": null,
   "id": "c721dba8",
   "metadata": {
    "vscode": {
     "languageId": "r"
    }
   },
   "outputs": [],
   "source": [
    "_____(netflix)"
   ]
  },
  {
   "attachments": {},
   "cell_type": "markdown",
   "id": "af868972",
   "metadata": {
    "lines_to_next_cell": 0
   },
   "source": [
    "TYPE OF CONTENT\n",
    "\n",
    "Total number of movie and show"
   ]
  },
  {
   "cell_type": "code",
   "execution_count": null,
   "id": "87b53106",
   "metadata": {
    "lines_to_next_cell": 0,
    "vscode": {
     "languageId": "r"
    }
   },
   "outputs": [],
   "source": [
    "___(netflix$type)"
   ]
  },
  {
   "attachments": {},
   "cell_type": "markdown",
   "id": "3a0683c4",
   "metadata": {
    "lines_to_next_cell": 0
   },
   "source": [
    "explore if here are some Na values"
   ]
  },
  {
   "cell_type": "code",
   "execution_count": null,
   "id": "fcbd6cb9",
   "metadata": {
    "vscode": {
     "languageId": "r"
    }
   },
   "outputs": [],
   "source": [
    "____(___(netflix$type))"
   ]
  },
  {
   "attachments": {},
   "cell_type": "markdown",
   "id": "ad8e2ab6",
   "metadata": {
    "lines_to_next_cell": 0
   },
   "source": [
    "plot the distribution of content type"
   ]
  },
  {
   "cell_type": "code",
   "execution_count": null,
   "id": "c99a3f31",
   "metadata": {
    "vscode": {
     "languageId": "r"
    }
   },
   "outputs": [],
   "source": [
    "barplot(_________),\n",
    "        main = \"Content type distribution in Netflix\",\n",
    "        xlab = \"Type\",\n",
    "        ylab = \"Freq\",\n",
    "        col = \"greenyellow\")"
   ]
  },
  {
   "attachments": {},
   "cell_type": "markdown",
   "id": "83925300",
   "metadata": {
    "lines_to_next_cell": 0
   },
   "source": [
    "AGE CERTIFICATION\n",
    "\n",
    "G: General Audiences, All Ages Admitted.\n",
    "\n",
    "PG: Parental Guidance Suggested, Some Material May Not Be Suitable for Children. \n",
    "\n",
    "PG-13: Parents Strongly Cautioned, Some Material May Be Inappropriate for Children Under 13. \n",
    "\n",
    "R: Restricted, Children Under 17 Require Accompanying Parent or Adult Guardian. \n",
    "\n",
    "NC-17: No One 17 and Under Admitted. \n",
    "\n",
    "TV-Y (All Children) \n",
    "\n",
    "TV-Y7 (Directed To Older Children) This program is designed for children age 7 and above. \n",
    "\n",
    "TV-G (General Audience) Most parents would find this program suitable for all ages.\n",
    "\n",
    "TV-PG (Parental Guidance Suggested) This program contains material that parents may find unsuitable for younger children.\n",
    "\n",
    "TV-14 (Parents Strongly Cautioned) This program contains some material that many parents would find unsuitable for children under 13 years of age.\n",
    "\n",
    "TV-MA (Mature Accompaniment) This program does not allow\n",
    "\n",
    "Explore if there are some Na values in age certification"
   ]
  },
  {
   "cell_type": "code",
   "execution_count": null,
   "id": "6e2c280c",
   "metadata": {
    "vscode": {
     "languageId": "r"
    }
   },
   "outputs": [],
   "source": [
    "___(____(netflix$age_certification))"
   ]
  },
  {
   "attachments": {},
   "cell_type": "markdown",
   "id": "03ef22e5",
   "metadata": {
    "lines_to_next_cell": 0
   },
   "source": [
    "Total number of content stratified for age certification"
   ]
  },
  {
   "cell_type": "code",
   "execution_count": null,
   "id": "f858e935",
   "metadata": {
    "lines_to_next_cell": 0,
    "vscode": {
     "languageId": "r"
    }
   },
   "outputs": [],
   "source": [
    "____(netflix$age_certification)"
   ]
  },
  {
   "attachments": {},
   "cell_type": "markdown",
   "id": "57ed4835",
   "metadata": {},
   "source": [
    "Plot Number of items per age certification"
   ]
  },
  {
   "cell_type": "code",
   "execution_count": null,
   "id": "fae34c06",
   "metadata": {
    "vscode": {
     "languageId": "r"
    }
   },
   "outputs": [],
   "source": []
  },
  {
   "attachments": {},
   "cell_type": "markdown",
   "id": "5990de43",
   "metadata": {},
   "source": [
    "How to modify the blank record??"
   ]
  },
  {
   "cell_type": "code",
   "execution_count": 20,
   "id": "95be2513",
   "metadata": {
    "vscode": {
     "languageId": "r"
    }
   },
   "outputs": [],
   "source": [
    "#for (i in 1:dim(netflix)[1])  {\n",
    "#  if (netflix$age_certification[i]== \"\")\n",
    "#  netflix$age_certification[i] = NA\n",
    "#}"
   ]
  },
  {
   "cell_type": "code",
   "execution_count": 21,
   "id": "f7a567aa",
   "metadata": {
    "lines_to_next_cell": 2,
    "vscode": {
     "languageId": "r"
    }
   },
   "outputs": [],
   "source": []
  },
  {
   "attachments": {},
   "cell_type": "markdown",
   "id": "d7bb406e",
   "metadata": {
    "lines_to_next_cell": 0
   },
   "source": [
    "RELEASE YEAR \n",
    "Number of Items added per year "
   ]
  },
  {
   "cell_type": "code",
   "execution_count": null,
   "id": "ceee3f9c",
   "metadata": {
    "lines_to_next_cell": 2,
    "vscode": {
     "languageId": "r"
    }
   },
   "outputs": [],
   "source": [
    "netflix %>%\n",
    "  group_by(_____) %>%\n",
    "  summarise(total = ____) %>%\n",
    "  ggplot() +\n",
    "  theme_minimal() +\n",
    "  geom_col(aes(\n",
    "    x = _____,\n",
    "    y = ____\n",
    "    ), fill = \"greenyellow\")+\n",
    "  labs(title = \"Number of Items per release year variable\") "
   ]
  },
  {
   "attachments": {},
   "cell_type": "markdown",
   "id": "aea10411",
   "metadata": {
    "lines_to_next_cell": 0
   },
   "source": [
    "YEAR ADDED\n",
    "Time series \n",
    "check na values"
   ]
  },
  {
   "cell_type": "code",
   "execution_count": null,
   "id": "4a30d319",
   "metadata": {
    "vscode": {
     "languageId": "r"
    }
   },
   "outputs": [],
   "source": [
    "___(____(netflix$date_added))"
   ]
  },
  {
   "attachments": {},
   "cell_type": "markdown",
   "id": "76c1e3bc",
   "metadata": {
    "lines_to_next_cell": 0
   },
   "source": [
    "Transform data_added in date format"
   ]
  },
  {
   "cell_type": "code",
   "execution_count": 24,
   "id": "6ea28ae8",
   "metadata": {
    "vscode": {
     "languageId": "r"
    }
   },
   "outputs": [],
   "source": [
    "netflix <- netflix %>% \n",
    "  ____(date_added = ____(date_added))"
   ]
  },
  {
   "attachments": {},
   "cell_type": "markdown",
   "id": "ba35e071",
   "metadata": {
    "lines_to_next_cell": 0
   },
   "source": [
    "Create new variables starting from data_added. \n",
    "Getting each year, month and date separated "
   ]
  },
  {
   "cell_type": "code",
   "execution_count": 25,
   "id": "d9ac7ec8",
   "metadata": {
    "vscode": {
     "languageId": "r"
    }
   },
   "outputs": [],
   "source": [
    "netflix <- netflix %>% \n",
    "  # create year variable,\n",
    "  # create month variable,\n",
    "  # create date variable,\n",
    "  # create weekday variable,"
   ]
  },
  {
   "attachments": {},
   "cell_type": "markdown",
   "id": "404797e1",
   "metadata": {
    "lines_to_next_cell": 0
   },
   "source": [
    "Number of Items added per year "
   ]
  },
  {
   "cell_type": "code",
   "execution_count": null,
   "id": "8ad262ac",
   "metadata": {
    "vscode": {
     "languageId": "r"
    }
   },
   "outputs": [],
   "source": [
    "df_plot_1 <- netflix %>%\n",
    "  group_by(___) %>%\n",
    "  summarise(total = ___))\n",
    "\n",
    "ggplot(___) +\n",
    "  theme_minimal() +\n",
    "  geom_col(aes(\n",
    "    x = ____,\n",
    "    y = ___\n",
    "    ), fill = \"greenyellow\")+\n",
    "  labs(title = \"Number of Items added per year\") "
   ]
  },
  {
   "attachments": {},
   "cell_type": "markdown",
   "id": "eaf3b42a",
   "metadata": {
    "lines_to_next_cell": 0
   },
   "source": [
    "Number of Items added each day of the week"
   ]
  },
  {
   "cell_type": "code",
   "execution_count": null,
   "id": "38705f93",
   "metadata": {
    "vscode": {
     "languageId": "r"
    }
   },
   "outputs": [],
   "source": [
    "netflix %>%\n",
    "  group_by(___) %>%\n",
    "  summarise(total = ___) %>%\n",
    "  ggplot() +\n",
    "  theme_minimal() +\n",
    "  geom_col(aes(\n",
    "    x = _____,\n",
    "    y = ____),\n",
    "    fill=\"cornflowerblue\")+\n",
    "  labs(title = \"Number of Items added each day of the week\") "
   ]
  },
  {
   "attachments": {},
   "cell_type": "markdown",
   "id": "363f585e",
   "metadata": {},
   "source": [
    "Let's analyse data by quarters"
   ]
  },
  {
   "cell_type": "code",
   "execution_count": null,
   "id": "ee6710b3",
   "metadata": {
    "lines_to_next_cell": 2,
    "vscode": {
     "languageId": "r"
    }
   },
   "outputs": [],
   "source": [
    "df_plot_2 <- netflix %>%\n",
    "  group_by(____,  m=___(___)) %>%\n",
    "  summarise(total = ____)%>%\n",
    "  ________\n",
    "df_plot_2$YM = ____(df_plot_2$Year,\"-\", df_plot_2$m)\n",
    "df_plot_2"
   ]
  },
  {
   "cell_type": "code",
   "execution_count": null,
   "id": "2c05fc00",
   "metadata": {
    "lines_to_next_cell": 0,
    "vscode": {
     "languageId": "r"
    }
   },
   "outputs": [],
   "source": [
    "ggplot(data=_____, aes(x=____, y=___, group=__)) +\n",
    "  geom_line()+\n",
    "  geom_point()+\n",
    "  labs(\n",
    "      x = \"Year Added\",\n",
    "      y = \"Count\",\n",
    "      title = \"Number of Items added per year\"\n",
    "    )+\n",
    "  theme(axis.text.x = element_text(angle = 90, vjust = 0.5, hjust=1))"
   ]
  },
  {
   "attachments": {},
   "cell_type": "markdown",
   "id": "73ad77e1",
   "metadata": {},
   "source": []
  },
  {
   "attachments": {},
   "cell_type": "markdown",
   "id": "80b22b93",
   "metadata": {
    "lines_to_next_cell": 0
   },
   "source": [
    "GENERE - list\n",
    "\n",
    "An R list is an object consisting of an ordered collection of objects known as its components.\n",
    "\n",
    "There is no particular need for the components to be of the same mode or type, and, for example, a list could consist of a numeric vector, a logical value, a matrix, a complex vector, a character array, a function, and so on. "
   ]
  },
  {
   "cell_type": "code",
   "execution_count": null,
   "id": "c396e870",
   "metadata": {
    "vscode": {
     "languageId": "r"
    }
   },
   "outputs": [],
   "source": [
    "Lst <- ____()\n",
    "print(Lst)\n",
    "#print name of whife\n",
    "#print the age of fist child"
   ]
  },
  {
   "attachments": {},
   "cell_type": "markdown",
   "id": "871317a8",
   "metadata": {},
   "source": [
    "explore list in Netflix data"
   ]
  },
  {
   "cell_type": "code",
   "execution_count": 31,
   "id": "bac6f2d6",
   "metadata": {
    "lines_to_next_cell": 2,
    "vscode": {
     "languageId": "r"
    }
   },
   "outputs": [],
   "source": [
    "# create a list using genres column\n",
    "#transform in a character string list\n",
    "#extract all the word in every cell\n",
    "#transform in a dataframe\n",
    "#Counting the number of times that a gender appears  \n",
    "#sort decreasingly"
   ]
  },
  {
   "attachments": {},
   "cell_type": "markdown",
   "id": "35277e58",
   "metadata": {},
   "source": [
    "Plot the number of generes"
   ]
  },
  {
   "cell_type": "code",
   "execution_count": null,
   "id": "0ff3e26b",
   "metadata": {
    "vscode": {
     "languageId": "r"
    }
   },
   "outputs": [],
   "source": [
    "ggplot(_____)+\n",
    "  geom_col(aes(____, ___(____, ____)), fill=\"#089BA3\")+\n",
    "  theme_minimal()+\n",
    "  labs(title = \"The count of genres\")"
   ]
  },
  {
   "attachments": {},
   "cell_type": "markdown",
   "id": "c6d7d140",
   "metadata": {
    "lines_to_next_cell": 0
   },
   "source": [
    "IMDB score \n",
    "\n",
    "Plot IMDB score by year, colored by type"
   ]
  },
  {
   "cell_type": "code",
   "execution_count": null,
   "id": "c4206580",
   "metadata": {
    "vscode": {
     "languageId": "r"
    }
   },
   "outputs": [],
   "source": [
    "ggplot(netflix) +\n",
    "  geom_point(aes(_____, ____, color=___), alpha = 0.5) +\n",
    "  labs(title = \"IMDB Score Distribution\") "
   ]
  },
  {
   "cell_type": "code",
   "execution_count": null,
   "id": "f828b40f",
   "metadata": {
    "lines_to_next_cell": 2,
    "vscode": {
     "languageId": "r"
    }
   },
   "outputs": [],
   "source": [
    "netflix %>% \n",
    "  filter(!is.na(tmdb_popularity)) %>%\n",
    "  group_by(release_year) %>%\n",
    "  summarise(Mean = mean(tmdb_popularity)) %>%\n",
    "  ggplot()+\n",
    "  geom_col(aes(release_year, Mean), fill=\"#089BA3\")+\n",
    "  theme_minimal()+\n",
    "  labs(title = \"\")"
   ]
  },
  {
   "attachments": {},
   "cell_type": "markdown",
   "id": "cfa9e2cf",
   "metadata": {},
   "source": [
    "Group in decades"
   ]
  },
  {
   "cell_type": "code",
   "execution_count": 35,
   "id": "bc4b5991",
   "metadata": {
    "vscode": {
     "languageId": "r"
    },
    "warnings": false
   },
   "outputs": [],
   "source": [
    "netflix$decade = ___ \n",
    "\n",
    "for (i in 1:___(netflix)[__])  {\n",
    "  \n",
    "}"
   ]
  },
  {
   "attachments": {},
   "cell_type": "markdown",
   "id": "a1dcd7e1",
   "metadata": {},
   "source": [
    "Plot the mean of tmdb popularuty through decades"
   ]
  },
  {
   "cell_type": "code",
   "execution_count": null,
   "id": "9888eafd",
   "metadata": {
    "lines_to_next_cell": 0,
    "vscode": {
     "languageId": "r"
    }
   },
   "outputs": [],
   "source": [
    "netflix %>% \n",
    "  ___________\n",
    "  group_by(decade) %>%\n",
    "  summarise(Mean = ___(____)) %>%\n",
    "  ggplot()+\n",
    "  geom_col(aes(____, ___), fill=\"#089BA3\")+\n",
    "  theme_minimal()+\n",
    "  labs(title = \"\")"
   ]
  },
  {
   "attachments": {},
   "cell_type": "markdown",
   "id": "62eb5b3b",
   "metadata": {},
   "source": [
    "EXTRA for the curious and brave ones"
   ]
  },
  {
   "cell_type": "code",
   "execution_count": null,
   "id": "b817493c",
   "metadata": {
    "lines_to_next_cell": 2,
    "vscode": {
     "languageId": "r"
    }
   },
   "outputs": [],
   "source": [
    "library(wordcloud)\n",
    "library(tidytext)\n",
    "desc_words_m <- netflix %>% \n",
    "  filter(type == \"MOVIE\" ) %>% \n",
    "    unnest_tokens(word, description) %>%\n",
    "    anti_join(stop_words)\n",
    "\n",
    "count_word <- desc_words_m %>%\n",
    "   count(word, sort = TRUE)"
   ]
  },
  {
   "cell_type": "code",
   "execution_count": null,
   "id": "7d6eabcf",
   "metadata": {
    "vscode": {
     "languageId": "r"
    },
    "warnings": false
   },
   "outputs": [],
   "source": [
    "wordcloud(words = count_word$word,  \n",
    "          freq = count_word$n,\n",
    "          min.freq = 50,  \n",
    "          max.words = nrow(count_word), \n",
    "          random.order = FALSE,  \n",
    "          rot.per = 0.1,  \n",
    "          colors = brewer.pal(8, \"Dark2\")\n",
    ")"
   ]
  },
  {
   "cell_type": "code",
   "execution_count": null,
   "id": "272ded95",
   "metadata": {
    "vscode": {
     "languageId": "r"
    }
   },
   "outputs": [],
   "source": []
  }
 ],
 "metadata": {
  "jupytext": {
   "cell_metadata_filter": "warnings,-all",
   "main_language": "R",
   "notebook_metadata_filter": "-all"
  },
  "kernelspec": {
   "display_name": "R",
   "language": "R",
   "name": "ir"
  },
  "language_info": {
   "codemirror_mode": "r",
   "file_extension": ".r",
   "mimetype": "text/x-r-source",
   "name": "R",
   "pygments_lexer": "r",
   "version": "4.1.2"
  }
 },
 "nbformat": 4,
 "nbformat_minor": 5
}
